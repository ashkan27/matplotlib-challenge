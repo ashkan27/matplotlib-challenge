{
 "cells": [
  {
   "cell_type": "markdown",
   "metadata": {},
   "source": [
    "## Observations and Insights"
   ]
  },
  {
   "cell_type": "markdown",
   "metadata": {},
   "source": [
    "After analyzing and reviewing the data from Pymaceuticals dataset, I have listed 3 of my observations from figures and tables generated. \n",
    " \n",
    "     1. First of all, I realized that even tho the study started with 250 mouses. After 45 days, there were only 130 mouses that survived through out this period. The rest might have died!\n",
    "     2. Secondly, according to Summary statistics table, only Capomulin and Ramicane treatments actually worked on these mouses. The average tumor volume for Capomulin and Ramicane are 40.68 mm^3 and 40.22 mm^3 respectively.\n",
    "     3. Finally, according to the scatter plot and the linear regression line that was generated. There is a strong corroletion between mouses weights and their average tumor volume. In fact the r-squared value is 0.84 which is more than 0.7 which suggests the strong corroletion. Also, the slope of the regression line is 0.95."
   ]
  },
  {
   "cell_type": "markdown",
   "metadata": {},
   "source": [
    "## Dependencies and starter code"
   ]
  },
  {
   "cell_type": "code",
   "execution_count": 1,
   "metadata": {},
   "outputs": [],
   "source": [
    "# Dependencies and Setup\n",
    "import matplotlib.pyplot as plt\n",
    "import pandas as pd\n",
    "import scipy.stats as st\n",
    "from scipy.stats import linregress\n",
    "from sklearn import datasets\n",
    "\n",
    "# Study data files\n",
    "mouse_metadata = \"data/Mouse_metadata.csv\"\n",
    "study_results = \"data/Study_results.csv\"\n",
    "\n",
    "# Read the mouse data and the study results\n",
    "mouse_metadata = pd.read_csv(mouse_metadata)\n",
    "study_results = pd.read_csv(study_results)\n",
    "\n",
    "# Combine the data into a single dataset\n",
    "data = pd.merge(mouse_metadata,study_results, on = \"Mouse ID\")"
   ]
  },
  {
   "cell_type": "markdown",
   "metadata": {},
   "source": [
    "## Summary statistics"
   ]
  },
  {
   "cell_type": "code",
   "execution_count": 2,
   "metadata": {},
   "outputs": [
    {
     "data": {
      "text/html": [
       "<div>\n",
       "<style scoped>\n",
       "    .dataframe tbody tr th:only-of-type {\n",
       "        vertical-align: middle;\n",
       "    }\n",
       "\n",
       "    .dataframe tbody tr th {\n",
       "        vertical-align: top;\n",
       "    }\n",
       "\n",
       "    .dataframe thead th {\n",
       "        text-align: right;\n",
       "    }\n",
       "</style>\n",
       "<table border=\"1\" class=\"dataframe\">\n",
       "  <thead>\n",
       "    <tr style=\"text-align: right;\">\n",
       "      <th></th>\n",
       "      <th>Tumor Volume Mean</th>\n",
       "      <th>Tumor Volume Median</th>\n",
       "      <th>Tumor Volume Variance</th>\n",
       "      <th>Tumor Volume STD</th>\n",
       "      <th>Tumor Volume SEM</th>\n",
       "    </tr>\n",
       "    <tr>\n",
       "      <th>Drug Regimen</th>\n",
       "      <th></th>\n",
       "      <th></th>\n",
       "      <th></th>\n",
       "      <th></th>\n",
       "      <th></th>\n",
       "    </tr>\n",
       "  </thead>\n",
       "  <tbody>\n",
       "    <tr>\n",
       "      <td>Capomulin</td>\n",
       "      <td>40.68</td>\n",
       "      <td>41.56</td>\n",
       "      <td>24.95</td>\n",
       "      <td>4.99</td>\n",
       "      <td>0.33</td>\n",
       "    </tr>\n",
       "    <tr>\n",
       "      <td>Ceftamin</td>\n",
       "      <td>52.59</td>\n",
       "      <td>51.78</td>\n",
       "      <td>39.29</td>\n",
       "      <td>6.27</td>\n",
       "      <td>0.47</td>\n",
       "    </tr>\n",
       "    <tr>\n",
       "      <td>Infubinol</td>\n",
       "      <td>52.88</td>\n",
       "      <td>51.82</td>\n",
       "      <td>43.13</td>\n",
       "      <td>6.57</td>\n",
       "      <td>0.49</td>\n",
       "    </tr>\n",
       "    <tr>\n",
       "      <td>Ketapril</td>\n",
       "      <td>55.24</td>\n",
       "      <td>53.70</td>\n",
       "      <td>68.55</td>\n",
       "      <td>8.28</td>\n",
       "      <td>0.60</td>\n",
       "    </tr>\n",
       "    <tr>\n",
       "      <td>Naftisol</td>\n",
       "      <td>54.33</td>\n",
       "      <td>52.51</td>\n",
       "      <td>66.17</td>\n",
       "      <td>8.13</td>\n",
       "      <td>0.60</td>\n",
       "    </tr>\n",
       "    <tr>\n",
       "      <td>Placebo</td>\n",
       "      <td>54.03</td>\n",
       "      <td>52.29</td>\n",
       "      <td>61.17</td>\n",
       "      <td>7.82</td>\n",
       "      <td>0.58</td>\n",
       "    </tr>\n",
       "    <tr>\n",
       "      <td>Propriva</td>\n",
       "      <td>52.32</td>\n",
       "      <td>50.85</td>\n",
       "      <td>42.35</td>\n",
       "      <td>6.51</td>\n",
       "      <td>0.51</td>\n",
       "    </tr>\n",
       "    <tr>\n",
       "      <td>Ramicane</td>\n",
       "      <td>40.22</td>\n",
       "      <td>40.67</td>\n",
       "      <td>23.49</td>\n",
       "      <td>4.85</td>\n",
       "      <td>0.32</td>\n",
       "    </tr>\n",
       "    <tr>\n",
       "      <td>Stelasyn</td>\n",
       "      <td>54.23</td>\n",
       "      <td>52.43</td>\n",
       "      <td>59.45</td>\n",
       "      <td>7.71</td>\n",
       "      <td>0.57</td>\n",
       "    </tr>\n",
       "    <tr>\n",
       "      <td>Zoniferol</td>\n",
       "      <td>53.24</td>\n",
       "      <td>51.82</td>\n",
       "      <td>48.53</td>\n",
       "      <td>6.97</td>\n",
       "      <td>0.52</td>\n",
       "    </tr>\n",
       "  </tbody>\n",
       "</table>\n",
       "</div>"
      ],
      "text/plain": [
       "              Tumor Volume Mean  Tumor Volume Median  Tumor Volume Variance  \\\n",
       "Drug Regimen                                                                  \n",
       "Capomulin                 40.68                41.56                  24.95   \n",
       "Ceftamin                  52.59                51.78                  39.29   \n",
       "Infubinol                 52.88                51.82                  43.13   \n",
       "Ketapril                  55.24                53.70                  68.55   \n",
       "Naftisol                  54.33                52.51                  66.17   \n",
       "Placebo                   54.03                52.29                  61.17   \n",
       "Propriva                  52.32                50.85                  42.35   \n",
       "Ramicane                  40.22                40.67                  23.49   \n",
       "Stelasyn                  54.23                52.43                  59.45   \n",
       "Zoniferol                 53.24                51.82                  48.53   \n",
       "\n",
       "              Tumor Volume STD  Tumor Volume SEM  \n",
       "Drug Regimen                                      \n",
       "Capomulin                 4.99              0.33  \n",
       "Ceftamin                  6.27              0.47  \n",
       "Infubinol                 6.57              0.49  \n",
       "Ketapril                  8.28              0.60  \n",
       "Naftisol                  8.13              0.60  \n",
       "Placebo                   7.82              0.58  \n",
       "Propriva                  6.51              0.51  \n",
       "Ramicane                  4.85              0.32  \n",
       "Stelasyn                  7.71              0.57  \n",
       "Zoniferol                 6.97              0.52  "
      ]
     },
     "execution_count": 2,
     "metadata": {},
     "output_type": "execute_result"
    }
   ],
   "source": [
    "# Generate a summary statistics table of mean, median, variance, standard deviation, and SEM of the tumor volume for each regimen\n",
    "\n",
    "# Cleaning the data\n",
    "drug_tumor = data[[\"Drug Regimen\", \"Tumor Volume (mm3)\"]]\n",
    "\n",
    "# Group by Drug Regimen\n",
    "group_drug = drug_tumor.groupby([\"Drug Regimen\"])\n",
    "\n",
    "# To find Mean, Median, Variance, STD and SEM of Tumor Volume\n",
    "summary = round(group_drug.mean(),2)\n",
    "\n",
    "# Rename\n",
    "summary = summary.rename(columns={\"Tumor Volume (mm3)\":\"Tumor Volume Mean\"})\n",
    "\n",
    "# To find Mean, Median, Variance, STD and SEM of Tumor Volume\n",
    "summary[\"Tumor Volume Median\"] = round(group_drug.median(),2)\n",
    "summary[\"Tumor Volume Variance\"] = round(group_drug.var(),2)\n",
    "summary[\"Tumor Volume STD\"] = round(group_drug.std(),2)\n",
    "summary[\"Tumor Volume SEM\"] = round(group_drug.sem(),2)\n",
    "\n",
    "# Display results\n",
    "summary"
   ]
  },
  {
   "cell_type": "markdown",
   "metadata": {},
   "source": [
    "## Bar plots"
   ]
  },
  {
   "cell_type": "code",
   "execution_count": 3,
   "metadata": {},
   "outputs": [
    {
     "data": {
      "text/plain": [
       "Text(0, 0.5, 'Number of Data Points')"
      ]
     },
     "execution_count": 3,
     "metadata": {},
     "output_type": "execute_result"
    },
    {
     "data": {
      "image/png": "[encoded data removed]",
      "text/plain": [
       "<Figure size 432x288 with 1 Axes>"
      ]
     },
     "metadata": {
      "needs_background": "light"
     },
     "output_type": "display_data"
    }
   ],
   "source": [
    "# Generate a bar plot showing number of data points for each treatment regimen using pandas\n",
    "\n",
    "# To count data points\n",
    "data_points = group_drug.count()\n",
    "\n",
    "# Rename\n",
    "data_points = data_points.rename(columns={\"Tumor Volume (mm3)\":\"Tumor Volume Count\"})\n",
    "\n",
    "# Pandas bar plot\n",
    "data_bar = data_points.plot(kind=\"bar\", facecolor=\"blue\")\n",
    "\n",
    "# Title, x label, y label\n",
    "plt.title('Number of Data Points for each Drug Regimen')\n",
    "plt.xlabel('Drug Regimen')\n",
    "plt.ylabel('Number of Data Points')"
   ]
  },
  {
   "cell_type": "code",
   "execution_count": 4,
   "metadata": {},
   "outputs": [
    {
     "data": {
      "text/plain": [
       "Text(0, 0.5, 'Number of Data Points')"
      ]
     },
     "execution_count": 4,
     "metadata": {},
     "output_type": "execute_result"
    },
    {
     "data": {
      "image/png": "[encoded data removed]",
      "text/plain": [
       "<Figure size 720x360 with 1 Axes>"
      ]
     },
     "metadata": {
      "needs_background": "light"
     },
     "output_type": "display_data"
    }
   ],
   "source": [
    "# Generate a bar plot showing number of data points for each treatment regimen using pyplot\n",
    "\n",
    "# To get and sort out drug regimen\n",
    "drugs = data[\"Drug Regimen\"].unique()\n",
    "drugs.sort()\n",
    "\n",
    "# Size of the plot\n",
    "plt.figure(figsize=(10,5))\n",
    "\n",
    "# Matplot bar plot\n",
    "plt.bar(drugs, data_points[\"Tumor Volume Count\"] , color=\"red\", align=\"center\",)\n",
    "\n",
    "# Title, x label, y label\n",
    "plt.title(\"Number of Data Points for each Drug Regimen\")\n",
    "plt.xlabel(\"Drug Regimen\")\n",
    "plt.ylabel(\"Number of Data Points\")"
   ]
  },
  {
   "cell_type": "markdown",
   "metadata": {},
   "source": [
    "## Pie plots"
   ]
  },
  {
   "cell_type": "code",
   "execution_count": 5,
   "metadata": {},
   "outputs": [
    {
     "data": {
      "text/plain": [
       "Text(0.5, 1.0, 'Distribution of female vs male mice')"
      ]
     },
     "execution_count": 5,
     "metadata": {},
     "output_type": "execute_result"
    },
    {
     "data": {
      "image/png": "[encoded data removed]",
      "text/plain": [
       "<Figure size 360x360 with 1 Axes>"
      ]
     },
     "metadata": {},
     "output_type": "display_data"
    }
   ],
   "source": [
    "# Generate a pie plot showing the distribution of female versus male mice using pandas\n",
    "\n",
    "# To count how many male female mouses are in the study.\n",
    "data_gender = pd.DataFrame(data[\"Sex\"].value_counts())\n",
    "\n",
    "# Pandas pie chart\n",
    "gender_plot = data_gender.plot.pie(y='Sex', figsize=(5, 5), autopct=\"%1.1f%%\")\n",
    "\n",
    "# Title\n",
    "plt.title(\"Distribution of female vs male mice\")"
   ]
  },
  {
   "cell_type": "code",
   "execution_count": 6,
   "metadata": {},
   "outputs": [
    {
     "data": {
      "image/png": "[encoded data removed]",
      "text/plain": [
       "<Figure size 432x288 with 1 Axes>"
      ]
     },
     "metadata": {},
     "output_type": "display_data"
    }
   ],
   "source": [
    "# Generate a pie plot showing the distribution of female versus male mice using pyplot\n",
    "\n",
    "# Createing labels for matplot pie chart\n",
    "labels = [\"Male\", \"Female\"]\n",
    "\n",
    "# Matplot pie chart\n",
    "plt.pie(data_gender['Sex'],autopct=\"%1.1f%%\", labels = labels)\n",
    "\n",
    "# Title and y label and legend\n",
    "plt.title(\"Distribution of female vs male mice\")\n",
    "plt.ylabel(\"Sex\")\n",
    "plt.legend()\n",
    "plt.show()"
   ]
  },
  {
   "cell_type": "markdown",
   "metadata": {},
   "source": [
    "## Quartiles, outliers and boxplots"
   ]
  },
  {
   "cell_type": "code",
   "execution_count": 7,
   "metadata": {},
   "outputs": [],
   "source": [
    "# Calculate the final tumor volume of each mouse across four of the most promising treatment regimens. Calculate the IQR and quantitatively determine if there are any potential outliers. \n",
    "\n",
    "# Cleaning the data\n",
    "data_reduced = data[[\"Mouse ID\", \"Drug Regimen\", \"Timepoint\", \"Tumor Volume (mm3)\"]]\n",
    "\n",
    "# To only get the final volume.\n",
    "final_volume = data_reduced.loc[data_reduced[\"Timepoint\"] == 45, :]\n",
    "\n",
    "# To extract the data for mentioned four treatments\n",
    "data_capomulin = final_volume.loc[final_volume[\"Drug Regimen\"] == \"Capomulin\"]\n",
    "data_ramicane = final_volume.loc[final_volume[\"Drug Regimen\"] == \"Ramicane\"]\n",
    "data_infubinol = final_volume.loc[final_volume[\"Drug Regimen\"] == \"Infubinol\"]\n",
    "data_ceftamin = final_volume.loc[final_volume[\"Drug Regimen\"] == \"Ceftamin\"]\n",
    "\n",
    "# Rename\n",
    "data_capomulin = data_capomulin.rename(columns={\"Tumor Volume (mm3)\":\"Final Tumor Volume\"})\n",
    "data_ramicane = data_ramicane.rename(columns={\"Tumor Volume (mm3)\":\"Final Tumor Volume\"})\n",
    "data_infubinol = data_infubinol.rename(columns={\"Tumor Volume (mm3)\":\"Final Tumor Volume\"})\n",
    "data_ceftamin = data_ceftamin.rename(columns={\"Tumor Volume (mm3)\":\"Final Tumor Volume\"})"
   ]
  },
  {
   "cell_type": "code",
   "execution_count": 8,
   "metadata": {},
   "outputs": [
    {
     "name": "stdout",
     "output_type": "stream",
     "text": [
      "The lower quartile of final tumor volume for Capomulin treatment regimen is: 32.37735684\n",
      "The the median of final tumor volume for Capomulin treatment regimen is: 37.31184577 \n",
      "The upper quartile of final tumor volume for Capomulin treatment regimen is: 40.1592203\n",
      "The interquartile range of final tumor volume for Capomulin treatment regimen is: 7.781863460000004\n",
      "Values below 20.70456164999999 could be outliers.\n",
      "Values above 51.83201549 could be outliers.\n",
      "Since the minimum final tumor volume is 23.34359787 which is greater than 20.70456164999999 and the maximum final tumor volume is 47.68596303 which is less than 51.83201549. Therefore, there is no outlier\n"
     ]
    }
   ],
   "source": [
    "# Capomulin Analysis\n",
    "\n",
    "# Final Volume\n",
    "final_v_cap = data_capomulin[\"Final Tumor Volume\"]\n",
    "\n",
    "# Calculating the IQR and quantitatively\n",
    "quartiles_cap = final_v_cap.quantile([.25,.5,.75])\n",
    "lowerq_cap = quartiles_cap[0.25]\n",
    "upperq_cap = quartiles_cap[0.75]\n",
    "iqr_cap = upperq_cap-lowerq_cap\n",
    "\n",
    "# Printing the results\n",
    "print(f\"The lower quartile of final tumor volume for Capomulin treatment regimen is: {lowerq_cap}\")\n",
    "print(f\"The the median of final tumor volume for Capomulin treatment regimen is: {quartiles_cap[0.5]} \")\n",
    "print(f\"The upper quartile of final tumor volume for Capomulin treatment regimen is: {upperq_cap}\")\n",
    "print(f\"The interquartile range of final tumor volume for Capomulin treatment regimen is: {iqr_cap}\")\n",
    "\n",
    "# To see if there is an outlier\n",
    "lower_bound_cap = lowerq_cap - (1.5*iqr_cap)\n",
    "upper_bound_cap = upperq_cap + (1.5*iqr_cap)\n",
    "print(f\"Values below {lower_bound_cap} could be outliers.\")\n",
    "print(f\"Values above {upper_bound_cap} could be outliers.\")\n",
    "print(f\"Since the minimum final tumor volume is {final_v_cap.min()} which is greater than {lower_bound_cap} and the maximum final tumor volume is {final_v_cap.max()} which is less than {upper_bound_cap}. Therefore, there is no outlier\")\n"
   ]
  },
  {
   "cell_type": "code",
   "execution_count": 9,
   "metadata": {},
   "outputs": [
    {
     "name": "stdout",
     "output_type": "stream",
     "text": [
      "The lower quartile of final tumor volume for Ramicane treatment regimen is: 30.981175224999998\n",
      "The the median of final tumor volume for Ramicane treatment regimen is: 34.848627300000004 \n",
      "The upper quartile of final tumor volume for Ramicane treatment regimen is: 38.508305307499995\n",
      "The interquartile range of final tumor volume for Ramicane treatment regimen is: 7.527130082499998\n",
      "Values below 19.690480101250003 could be outliers.\n",
      "Values above 49.79900043124999 could be outliers.\n",
      "Since the minimum final tumor volume is 22.05012627 which is greater than 19.690480101250003 and the maximum final tumor volume is 45.22086888 which is less than 49.79900043124999. Therefore, there is no outlier\n"
     ]
    }
   ],
   "source": [
    "# Ramicanein Analysis\n",
    "\n",
    "# Final Volume\n",
    "final_v_ram = data_ramicane[\"Final Tumor Volume\"]\n",
    "\n",
    "# Calculating the IQR and quantitatively\n",
    "quartiles_ram = final_v_ram.quantile([.25,.5,.75])\n",
    "lowerq_ram = quartiles_ram[0.25]\n",
    "upperq_ram = quartiles_ram[0.75]\n",
    "iqr_ram = upperq_ram-lowerq_ram\n",
    "\n",
    "# Printing the results\n",
    "print(f\"The lower quartile of final tumor volume for Ramicane treatment regimen is: {lowerq_ram}\")\n",
    "print(f\"The the median of final tumor volume for Ramicane treatment regimen is: {quartiles_ram[0.5]} \")\n",
    "print(f\"The upper quartile of final tumor volume for Ramicane treatment regimen is: {upperq_ram}\")\n",
    "print(f\"The interquartile range of final tumor volume for Ramicane treatment regimen is: {iqr_ram}\")\n",
    "\n",
    "# To see if there is an outlier\n",
    "lower_bound_ram = lowerq_ram - (1.5*iqr_ram)\n",
    "upper_bound_ram = upperq_ram + (1.5*iqr_ram)\n",
    "print(f\"Values below {lower_bound_ram} could be outliers.\")\n",
    "print(f\"Values above {upper_bound_ram} could be outliers.\")\n",
    "print(f\"Since the minimum final tumor volume is {final_v_ram.min()} which is greater than {lower_bound_ram} and the maximum final tumor volume is {final_v_ram.max()} which is less than {upper_bound_ram}. Therefore, there is no outlier\")\n"
   ]
  },
  {
   "cell_type": "code",
   "execution_count": 10,
   "metadata": {},
   "outputs": [
    {
     "name": "stdout",
     "output_type": "stream",
     "text": [
      "The lower quartile of final tumor volume for Infobunol treatment regimen is: 62.75445141\n",
      "The the median of final tumor volume for Infobunol treatment regimen is: 66.08306589 \n",
      "The upper quartile of final tumor volume for Infobunol treatment regimen is: 67.68556862\n",
      "The interquartile range of final tumor volume for Infobunol treatment regimen is: 4.9311172099999965\n",
      "Values below 55.35777559500001 could be outliers.\n",
      "Values above 75.08224443499999 could be outliers.\n",
      "Since the minimum final tumor volume is 60.91876652 which is greater than 55.35777559500001 and the maximum final tumor volume is 72.2267309 which is less than 75.08224443499999. Therefore, there is no outlier\n"
     ]
    }
   ],
   "source": [
    "# Infobunol Analysis\n",
    "\n",
    "# Final Volume\n",
    "final_v_inf = data_infubinol[\"Final Tumor Volume\"]\n",
    "\n",
    "# Calculating the IQR and quantitatively\n",
    "quartiles_inf = final_v_inf.quantile([.25,.5,.75])\n",
    "lowerq_inf = quartiles_inf[0.25]\n",
    "upperq_inf = quartiles_inf[0.75]\n",
    "iqr_inf = upperq_inf-lowerq_inf\n",
    "\n",
    "# Printing the results\n",
    "print(f\"The lower quartile of final tumor volume for Infobunol treatment regimen is: {lowerq_inf}\")\n",
    "print(f\"The the median of final tumor volume for Infobunol treatment regimen is: {quartiles_inf[0.5]} \")\n",
    "print(f\"The upper quartile of final tumor volume for Infobunol treatment regimen is: {upperq_inf}\")\n",
    "print(f\"The interquartile range of final tumor volume for Infobunol treatment regimen is: {iqr_inf}\")\n",
    "\n",
    "# To see if there is an outlier\n",
    "lower_bound_inf = lowerq_inf - (1.5*iqr_inf)\n",
    "upper_bound_inf = upperq_inf + (1.5*iqr_inf)\n",
    "print(f\"Values below {lower_bound_inf} could be outliers.\")\n",
    "print(f\"Values above {upper_bound_inf} could be outliers.\")\n",
    "print(f\"Since the minimum final tumor volume is {final_v_inf.min()} which is greater than {lower_bound_inf} and the maximum final tumor volume is {final_v_inf.max()} which is less than {upper_bound_inf}. Therefore, there is no outlier\")\n"
   ]
  },
  {
   "cell_type": "code",
   "execution_count": 11,
   "metadata": {},
   "outputs": [
    {
     "name": "stdout",
     "output_type": "stream",
     "text": [
      "The lower quartile of final tumor volume for Ceftamin treatment regimen is: 61.43389223\n",
      "The the median of final tumor volume for Ceftamin treatment regimen is: 64.29983003 \n",
      "The upper quartile of final tumor volume for Ceftamin treatment regimen is: 67.52748237\n",
      "The interquartile range of final tumor volume for Ceftamin treatment regimen is: 6.093590140000003\n",
      "Values below 52.29350701999999 could be outliers.\n",
      "Values above 76.66786758 could be outliers.\n",
      "Since the minimum final tumor volume is 59.74190064 which is greater than 52.29350701999999 and the maximum final tumor volume is 68.92318457 which is less than 76.66786758. Therefore, there is no outlier\n"
     ]
    }
   ],
   "source": [
    "# Ceftamin Analysis\n",
    "\n",
    "# Final Volume\n",
    "final_v_cef = data_ceftamin[\"Final Tumor Volume\"]\n",
    "\n",
    "# Calculating the IQR and quantitatively\n",
    "quartiles_cef = final_v_cef.quantile([.25,.5,.75])\n",
    "lowerq_cef = quartiles_cef[0.25]\n",
    "upperq_cef = quartiles_cef[0.75]\n",
    "iqr_cef = upperq_cef-lowerq_cef\n",
    "\n",
    "\n",
    "# Printing the results\n",
    "print(f\"The lower quartile of final tumor volume for Ceftamin treatment regimen is: {lowerq_cef}\")\n",
    "print(f\"The the median of final tumor volume for Ceftamin treatment regimen is: {quartiles_cef[0.5]} \")\n",
    "print(f\"The upper quartile of final tumor volume for Ceftamin treatment regimen is: {upperq_cef}\")\n",
    "print(f\"The interquartile range of final tumor volume for Ceftamin treatment regimen is: {iqr_cef}\")\n",
    "\n",
    "# To see if there is an outlier\n",
    "lower_bound_cef = lowerq_cef - (1.5*iqr_cef)\n",
    "upper_bound_cef = upperq_cef + (1.5*iqr_cef)\n",
    "print(f\"Values below {lower_bound_cef} could be outliers.\")\n",
    "print(f\"Values above {upper_bound_cef} could be outliers.\")\n",
    "print(f\"Since the minimum final tumor volume is {final_v_cef.min()} which is greater than {lower_bound_cef} and the maximum final tumor volume is {final_v_cef.max()} which is less than {upper_bound_cef}. Therefore, there is no outlier\")\n"
   ]
  },
  {
   "cell_type": "code",
   "execution_count": 12,
   "metadata": {},
   "outputs": [
    {
     "data": {
      "image/png": "[encoded data removed]",
      "text/plain": [
       "<Figure size 432x288 with 1 Axes>"
      ]
     },
     "metadata": {
      "needs_background": "light"
     },
     "output_type": "display_data"
    }
   ],
   "source": [
    "# Generate a box plot of the final tumor volume of each mouse across four regimens of interest\n",
    "\n",
    "allfour = [final_v_cap, final_v_cap,final_v_cap,final_v_cap]\n",
    "fig1, ax1 = plt.subplots()\n",
    "ax1.set_title('Final Tumor Volume across all four treatment regimen')\n",
    "ax1.set_ylabel('Final Tumor Volume mm3')\n",
    "ax1.boxplot(allfour)\n",
    "plt.show()"
   ]
  },
  {
   "cell_type": "markdown",
   "metadata": {},
   "source": [
    "## Line and scatter plots"
   ]
  },
  {
   "cell_type": "code",
   "execution_count": 13,
   "metadata": {},
   "outputs": [
    {
     "data": {
      "text/plain": [
       "Text(0, 0.5, 'Tumor Volume (mm3)')"
      ]
     },
     "execution_count": 13,
     "metadata": {},
     "output_type": "execute_result"
    },
    {
     "data": {
      "image/png": "[encoded data removed]",
      "text/plain": [
       "<Figure size 432x288 with 1 Axes>"
      ]
     },
     "metadata": {
      "needs_background": "light"
     },
     "output_type": "display_data"
    }
   ],
   "source": [
    "# Generate a line plot of time point versus tumor volume for a mouse treated with Capomulin\n",
    "\n",
    "# To reduce the data to get data for a single mouse with Capomulin treatment\n",
    "single_mouse = data.loc[data[\"Mouse ID\"] == \"s185\"]\n",
    "\n",
    "# Matplot line chart\n",
    "single_mouse_line, = plt.plot(single_mouse[\"Timepoint\"],single_mouse[\"Tumor Volume (mm3)\"] , marker=\"+\",color=\"blue\", linewidth=1, label=\"Fahreneit\")\n",
    "\n",
    "# Title, x label, y label\n",
    "plt.title(\"Time points vs Tumor Volume for Mouse ID: s185. Drug Regimen: Capomulin\")\n",
    "plt.xlabel(\"Time (Days)\")\n",
    "plt.ylabel(\"Tumor Volume (mm3)\")\n"
   ]
  },
  {
   "cell_type": "code",
   "execution_count": 14,
   "metadata": {},
   "outputs": [
    {
     "name": "stdout",
     "output_type": "stream",
     "text": [
      "The r-squared is: 0.84\n",
      "The correlation coefficient between weights and average tumor volume is 0.84\n",
      "The equation of linear regression line is y = 0.95*x + 21.55\n"
     ]
    },
    {
     "data": {
      "image/png": "[encoded data removed]",
      "text/plain": [
       "<Figure size 432x288 with 1 Axes>"
      ]
     },
     "metadata": {
      "needs_background": "light"
     },
     "output_type": "display_data"
    }
   ],
   "source": [
    "# Generate a scatter plot of mouse weight versus average tumor volume for the Capomulin regimen\n",
    "# Calculate the correlation coefficient and linear regression model for mouse weight and average tumor volume for the Capomulin regimen\n",
    "\n",
    "# To reduce the data to only get data for mices under Capomulin treatment\n",
    "capomulin = data.loc[data[\"Drug Regimen\"] == \"Capomulin\"]\n",
    "\n",
    "# Group by Mouse ID\n",
    "group_capomulin = capomulin.groupby([\"Mouse ID\"])\n",
    "\n",
    "# The store weights and Tumor Volume in lists\n",
    "weights = group_capomulin[\"Weight (g)\"].mean()\n",
    "tumor_v = group_capomulin[\"Tumor Volume (mm3)\"].mean()\n",
    "\n",
    "# To get regressian variables\n",
    "(slope, intercept, rvalue, pvalue, stderr) = linregress(weights, tumor_v)\n",
    "\n",
    "# Equation of the regression line\n",
    "regress_values = weights * slope + intercept\n",
    "\n",
    "# To plot the scatter plot using matplot\n",
    "plt.scatter(weights,tumor_v , marker=\"o\", facecolors=\"red\", edgecolors=\"black\")\n",
    "\n",
    "# To plot the refression line\n",
    "plt.plot(weights,regress_values,\"r-\")\n",
    "\n",
    "# Title, x label, y label\n",
    "plt.title(\"Mouse Weight vs Average Tumor Volume for Capomul Regimen\")\n",
    "plt.xlabel(\"Mouse Weight (g)\")\n",
    "plt.ylabel(\"Average Tumor Volume (mm3)\")\n",
    "\n",
    "# To print r-squared or correlation coefficient using two different methods\n",
    "print(f\"The r-squared is: {round(rvalue,2)}\")\n",
    "print(f\"The correlation coefficient between weights and average tumor volume is {round(st.pearsonr(weights,tumor_v)[0],2)}\")\n",
    "\n",
    "# To print the equation of the regression line\n",
    "print(f\"The equation of linear regression line is y = {round(slope,2)}*x + {round(intercept,2)}\")"
   ]
  },
  {
   "cell_type": "code",
   "execution_count": null,
   "metadata": {},
   "outputs": [],
   "source": []
  }
 ],
 "metadata": {
  "anaconda-cloud": {},
  "kernelspec": {
   "display_name": "Python [conda env:PythonData5] *",
   "language": "python",
   "name": "conda-env-PythonData5-py"
  },
  "language_info": {
   "codemirror_mode": {
    "name": "ipython",
    "version": 3
   },
   "file_extension": ".py",
   "mimetype": "text/x-python",
   "name": "python",
   "nbconvert_exporter": "python",
   "pygments_lexer": "ipython3",
   "version": "3.6.9"
  }
 },
 "nbformat": 4,
 "nbformat_minor": 2
}
